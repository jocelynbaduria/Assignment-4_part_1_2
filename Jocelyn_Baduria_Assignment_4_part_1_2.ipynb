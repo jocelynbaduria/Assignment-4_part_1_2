{
  "nbformat": 4,
  "nbformat_minor": 0,
  "metadata": {
    "colab": {
      "name": "Jocelyn_Baduria_Assignment 4_part_1_2.ipynb",
      "provenance": [],
      "collapsed_sections": [],
      "authorship_tag": "ABX9TyOBRwfkbp39wepdwFUxIUdP",
      "include_colab_link": true
    },
    "kernelspec": {
      "name": "python3",
      "display_name": "Python 3"
    },
    "language_info": {
      "name": "python"
    },
    "accelerator": "TPU"
  },
  "cells": [
    {
      "cell_type": "markdown",
      "metadata": {
        "id": "view-in-github",
        "colab_type": "text"
      },
      "source": [
        "<a href=\"https://colab.research.google.com/github/jocelynbaduria/Assignment-4_part_1_2/blob/main/Jocelyn_Baduria_Assignment_4_part_1_2.ipynb\" target=\"_parent\"><img src=\"https://colab.research.google.com/assets/colab-badge.svg\" alt=\"Open In Colab\"/></a>"
      ]
    },
    {
      "cell_type": "markdown",
      "metadata": {
        "id": "RyrBJ2DE21Yv"
      },
      "source": [
        "# Part 1. \n",
        "The assignment is to implement MNIST classifier fully with all the things learnt in last class with many features in numpy in a colab (executed colab should be checked in github and github directory with all resources should be provided)\n",
        "\n",
        "Check Grokking deep learning book \n",
        "Sample code :  https://github.com/iamtrask/Grokking-Deep-Learning (Links to an external site.) chapter 7,8,9.  - use mini batch, dropout, learning rate etc.,. \n",
        "\n",
        "The code should be very well documented in colab with appropriate sections and should be clean and easy to understand (points will be taken away if the code is not properly commented in colab). \n",
        "NOTE: this is individual assignment. we will check if two students are giving identical homework with turnitin as well as global check of copy paste as well. Please ensure you do this homework from scratch and not copy paste. \n"
      ]
    },
    {
      "cell_type": "code",
      "metadata": {
        "colab": {
          "base_uri": "https://localhost:8080/"
        },
        "id": "a-C7u3hGXDkE",
        "outputId": "bbe19808-8273-4b80-a682-37ddcf980ca5"
      },
      "source": [
        "!pip install -Uqq fastbook\n",
        "import fastbook\n",
        "fastbook.setup_book()"
      ],
      "execution_count": 20,
      "outputs": [
        {
          "output_type": "stream",
          "text": [
            "\u001b[K     |████████████████████████████████| 727kB 6.2MB/s \n",
            "\u001b[K     |████████████████████████████████| 194kB 10.4MB/s \n",
            "\u001b[K     |████████████████████████████████| 1.2MB 14.4MB/s \n",
            "\u001b[K     |████████████████████████████████| 51kB 4.4MB/s \n",
            "\u001b[K     |████████████████████████████████| 776.8MB 23kB/s \n",
            "\u001b[K     |████████████████████████████████| 12.8MB 40.5MB/s \n",
            "\u001b[K     |████████████████████████████████| 61kB 6.6MB/s \n",
            "\u001b[K     |████████████████████████████████| 51kB 5.3MB/s \n",
            "\u001b[31mERROR: torchtext 0.9.0 has requirement torch==1.8.0, but you'll have torch 1.7.1 which is incompatible.\u001b[0m\n",
            "\u001b[?25hMounted at /content/gdrive\n"
          ],
          "name": "stdout"
        }
      ]
    },
    {
      "cell_type": "markdown",
      "metadata": {
        "id": "ygVJMQKITNdq"
      },
      "source": [
        "### Load MNIST Dataset Using Numpy Array and/or Tensors\n"
      ]
    },
    {
      "cell_type": "code",
      "metadata": {
        "id": "__U3GO3FaIam"
      },
      "source": [
        "#hide\n",
        "from fastai.vision.all import *\n",
        "from fastbook import *\n",
        "\n",
        "matplotlib.rc('image', cmap='Greys')"
      ],
      "execution_count": 24,
      "outputs": []
    },
    {
      "cell_type": "code",
      "metadata": {
        "id": "BasOadL7WcAJ"
      },
      "source": [
        "path = untar_data(URLs.MNIST_SAMPLE)"
      ],
      "execution_count": 25,
      "outputs": []
    },
    {
      "cell_type": "code",
      "metadata": {
        "id": "coTnu1WIYqT-"
      },
      "source": [
        "Path.BASE_PATH = path "
      ],
      "execution_count": 27,
      "outputs": []
    },
    {
      "cell_type": "code",
      "metadata": {
        "colab": {
          "base_uri": "https://localhost:8080/"
        },
        "id": "PtCDis8Fahlq",
        "outputId": "a3760634-b244-47c6-d905-bac03951989c"
      },
      "source": [
        "path.ls()"
      ],
      "execution_count": 28,
      "outputs": [
        {
          "output_type": "execute_result",
          "data": {
            "text/plain": [
              "(#3) [Path('labels.csv'),Path('train'),Path('valid')]"
            ]
          },
          "metadata": {
            "tags": []
          },
          "execution_count": 28
        }
      ]
    },
    {
      "cell_type": "markdown",
      "metadata": {
        "id": "WiUJLqxhazDc"
      },
      "source": [
        "Using the fastai MNIST dataset follows a common layout for machine learning datasets: Folders are separated for the training set and the validation set (and/or test set). "
      ]
    },
    {
      "cell_type": "code",
      "metadata": {
        "colab": {
          "base_uri": "https://localhost:8080/"
        },
        "id": "EG35I5IFaokF",
        "outputId": "ca16672d-f062-4abd-f138-e1bd612285aa"
      },
      "source": [
        "# Let's check what's inside the MNIST training set: Using the fastai ls command lets execute it.\n",
        "(path/'train').ls()"
      ],
      "execution_count": 29,
      "outputs": [
        {
          "output_type": "execute_result",
          "data": {
            "text/plain": [
              "(#2) [Path('train/3'),Path('train/7')]"
            ]
          },
          "metadata": {
            "tags": []
          },
          "execution_count": 29
        }
      ]
    },
    {
      "cell_type": "markdown",
      "metadata": {
        "id": "EsdzDN8hbeDb"
      },
      "source": [
        "In this MNIST sample dataset we are using only the 3s and 7s.  3 and 7 are the labels in this dataset."
      ]
    },
    {
      "cell_type": "code",
      "metadata": {
        "colab": {
          "base_uri": "https://localhost:8080/"
        },
        "id": "_DPRlYvlb4wL",
        "outputId": "24544e54-da7e-4964-fc09-ed1c89849dbb"
      },
      "source": [
        "# Let's check each 3s and 7s folders (using sorted to ensure we all get the same order of files):\n",
        "three = (path/'train'/'3').ls().sorted()\n",
        "seven = (path/'train'/'7').ls().sorted()\n",
        "three"
      ],
      "execution_count": 31,
      "outputs": [
        {
          "output_type": "execute_result",
          "data": {
            "text/plain": [
              "(#6131) [Path('train/3/10.png'),Path('train/3/10000.png'),Path('train/3/10011.png'),Path('train/3/10031.png'),Path('train/3/10034.png'),Path('train/3/10042.png'),Path('train/3/10052.png'),Path('train/3/1007.png'),Path('train/3/10074.png'),Path('train/3/10091.png')...]"
            ]
          },
          "metadata": {
            "tags": []
          },
          "execution_count": 31
        }
      ]
    },
    {
      "cell_type": "markdown",
      "metadata": {
        "id": "1MgNGDJGcZp3"
      },
      "source": [
        "Let’s check an image of a handwritten number 3, from the famous MNIST dataset of handwritten numbers:"
      ]
    },
    {
      "cell_type": "code",
      "metadata": {
        "colab": {
          "base_uri": "https://localhost:8080/",
          "height": 45
        },
        "id": "bnmc-N-ncaaf",
        "outputId": "fda833db-3368-4f80-f004-e63ee067ee69"
      },
      "source": [
        "# Select one sample from the dataset\n",
        "image3_path = three[1]\n",
        "image3 = Image.open(image3_path)\n",
        "image3"
      ],
      "execution_count": 33,
      "outputs": [
        {
          "output_type": "execute_result",
          "data": {
            "image/png": "[encoded data removed]",
            "text/plain": [
              "<PIL.PngImagePlugin.PngImageFile image mode=L size=28x28 at 0x7FF1789CF1D0>"
            ]
          },
          "metadata": {
            "tags": []
          },
          "execution_count": 33
        }
      ]
    },
    {
      "cell_type": "markdown",
      "metadata": {
        "id": "t8RwJhVDdKpp"
      },
      "source": [
        "The image class from the Python Imaging Library (PIL) was used in this tutorial. PIL is the most widely used Python package for opening, manipulating, and viewing images so it displays the image for us automatically."
      ]
    },
    {
      "cell_type": "code",
      "metadata": {
        "colab": {
          "base_uri": "https://localhost:8080/"
        },
        "id": "dugTkIiSdli0",
        "outputId": "abe72d4a-cd7b-4d99-dab4-6109015f5bd5"
      },
      "source": [
        "# In a computer, everything is represented as a number. To view the numbers that make up this image, \n",
        "# we have to convert it to a NumPy array or a PyTorch tensor. \n",
        "# For instance, here's what a section of the image looks like, converted to a NumPy array:\n",
        "array(image3)[4:10,4:10]"
      ],
      "execution_count": 34,
      "outputs": [
        {
          "output_type": "execute_result",
          "data": {
            "text/plain": [
              "array([[  0,   0,   0,   0,   0,   0],\n",
              "       [  0,   0,   0,   0,   0,  29],\n",
              "       [  0,   0,   0,  48, 166, 224],\n",
              "       [  0,  93, 244, 249, 253, 187],\n",
              "       [  0, 107, 253, 253, 230,  48],\n",
              "       [  0,   3,  20,  20,  15,   0]], dtype=uint8)"
            ]
          },
          "metadata": {
            "tags": []
          },
          "execution_count": 34
        }
      ]
    },
    {
      "cell_type": "markdown",
      "metadata": {
        "id": "4G9w_fUefGup"
      },
      "source": [
        "We can slice the array to pick just the part with the top of the digit in it, and then use a Pandas DataFrame to color-code the values using a gradient, which shows us clearly how the image is created from the pixel values:"
      ]
    },
    {
      "cell_type": "code",
      "metadata": {
        "colab": {
          "base_uri": "https://localhost:8080/",
          "height": 271
        },
        "id": "655NEdWhfIqb",
        "outputId": "8df3761d-88dd-4119-fc1a-dee9e0b47640"
      },
      "source": [
        "image3_t = array(image3)\n",
        "df = pd.DataFrame(image3_t[4:15,4:22])\n",
        "df.style.set_properties(**{'font-size':'6pt'}).background_gradient('Greys')"
      ],
      "execution_count": 40,
      "outputs": [
        {
          "output_type": "execute_result",
          "data": {
            "text/html": [
              "<style  type=\"text/css\" >\n",
              "#T_3841fd12_9003_11eb_aed9_0242ac1c0002row0_col0,#T_3841fd12_9003_11eb_aed9_0242ac1c0002row0_col1,#T_3841fd12_9003_11eb_aed9_0242ac1c0002row0_col2,#T_3841fd12_9003_11eb_aed9_0242ac1c0002row0_col3,#T_3841fd12_9003_11eb_aed9_0242ac1c0002row0_col4,#T_3841fd12_9003_11eb_aed9_0242ac1c0002row0_col5,#T_3841fd12_9003_11eb_aed9_0242ac1c0002row0_col6,#T_3841fd12_9003_11eb_aed9_0242ac1c0002row0_col7,#T_3841fd12_9003_11eb_aed9_0242ac1c0002row0_col8,#T_3841fd12_9003_11eb_aed9_0242ac1c0002row0_col9,#T_3841fd12_9003_11eb_aed9_0242ac1c0002row0_col10,#T_3841fd12_9003_11eb_aed9_0242ac1c0002row0_col11,#T_3841fd12_9003_11eb_aed9_0242ac1c0002row0_col12,#T_3841fd12_9003_11eb_aed9_0242ac1c0002row0_col13,#T_3841fd12_9003_11eb_aed9_0242ac1c0002row0_col14,#T_3841fd12_9003_11eb_aed9_0242ac1c0002row0_col15,#T_3841fd12_9003_11eb_aed9_0242ac1c0002row0_col16,#T_3841fd12_9003_11eb_aed9_0242ac1c0002row0_col17,#T_3841fd12_9003_11eb_aed9_0242ac1c0002row1_col0,#T_3841fd12_9003_11eb_aed9_0242ac1c0002row1_col1,#T_3841fd12_9003_11eb_aed9_0242ac1c0002row1_col2,#T_3841fd12_9003_11eb_aed9_0242ac1c0002row1_col3,#T_3841fd12_9003_11eb_aed9_0242ac1c0002row1_col4,#T_3841fd12_9003_11eb_aed9_0242ac1c0002row1_col15,#T_3841fd12_9003_11eb_aed9_0242ac1c0002row1_col16,#T_3841fd12_9003_11eb_aed9_0242ac1c0002row1_col17,#T_3841fd12_9003_11eb_aed9_0242ac1c0002row2_col0,#T_3841fd12_9003_11eb_aed9_0242ac1c0002row2_col1,#T_3841fd12_9003_11eb_aed9_0242ac1c0002row2_col2,#T_3841fd12_9003_11eb_aed9_0242ac1c0002row2_col15,#T_3841fd12_9003_11eb_aed9_0242ac1c0002row2_col16,#T_3841fd12_9003_11eb_aed9_0242ac1c0002row2_col17,#T_3841fd12_9003_11eb_aed9_0242ac1c0002row3_col0,#T_3841fd12_9003_11eb_aed9_0242ac1c0002row3_col15,#T_3841fd12_9003_11eb_aed9_0242ac1c0002row3_col16,#T_3841fd12_9003_11eb_aed9_0242ac1c0002row3_col17,#T_3841fd12_9003_11eb_aed9_0242ac1c0002row4_col0,#T_3841fd12_9003_11eb_aed9_0242ac1c0002row4_col6,#T_3841fd12_9003_11eb_aed9_0242ac1c0002row4_col7,#T_3841fd12_9003_11eb_aed9_0242ac1c0002row4_col8,#T_3841fd12_9003_11eb_aed9_0242ac1c0002row4_col9,#T_3841fd12_9003_11eb_aed9_0242ac1c0002row4_col10,#T_3841fd12_9003_11eb_aed9_0242ac1c0002row4_col15,#T_3841fd12_9003_11eb_aed9_0242ac1c0002row4_col16,#T_3841fd12_9003_11eb_aed9_0242ac1c0002row4_col17,#T_3841fd12_9003_11eb_aed9_0242ac1c0002row5_col0,#T_3841fd12_9003_11eb_aed9_0242ac1c0002row5_col5,#T_3841fd12_9003_11eb_aed9_0242ac1c0002row5_col6,#T_3841fd12_9003_11eb_aed9_0242ac1c0002row5_col7,#T_3841fd12_9003_11eb_aed9_0242ac1c0002row5_col8,#T_3841fd12_9003_11eb_aed9_0242ac1c0002row5_col9,#T_3841fd12_9003_11eb_aed9_0242ac1c0002row5_col15,#T_3841fd12_9003_11eb_aed9_0242ac1c0002row5_col16,#T_3841fd12_9003_11eb_aed9_0242ac1c0002row5_col17,#T_3841fd12_9003_11eb_aed9_0242ac1c0002row6_col0,#T_3841fd12_9003_11eb_aed9_0242ac1c0002row6_col1,#T_3841fd12_9003_11eb_aed9_0242ac1c0002row6_col2,#T_3841fd12_9003_11eb_aed9_0242ac1c0002row6_col3,#T_3841fd12_9003_11eb_aed9_0242ac1c0002row6_col4,#T_3841fd12_9003_11eb_aed9_0242ac1c0002row6_col5,#T_3841fd12_9003_11eb_aed9_0242ac1c0002row6_col6,#T_3841fd12_9003_11eb_aed9_0242ac1c0002row6_col7,#T_3841fd12_9003_11eb_aed9_0242ac1c0002row6_col8,#T_3841fd12_9003_11eb_aed9_0242ac1c0002row6_col9,#T_3841fd12_9003_11eb_aed9_0242ac1c0002row6_col14,#T_3841fd12_9003_11eb_aed9_0242ac1c0002row6_col15,#T_3841fd12_9003_11eb_aed9_0242ac1c0002row6_col16,#T_3841fd12_9003_11eb_aed9_0242ac1c0002row6_col17,#T_3841fd12_9003_11eb_aed9_0242ac1c0002row7_col0,#T_3841fd12_9003_11eb_aed9_0242ac1c0002row7_col1,#T_3841fd12_9003_11eb_aed9_0242ac1c0002row7_col2,#T_3841fd12_9003_11eb_aed9_0242ac1c0002row7_col3,#T_3841fd12_9003_11eb_aed9_0242ac1c0002row7_col4,#T_3841fd12_9003_11eb_aed9_0242ac1c0002row7_col5,#T_3841fd12_9003_11eb_aed9_0242ac1c0002row7_col6,#T_3841fd12_9003_11eb_aed9_0242ac1c0002row7_col13,#T_3841fd12_9003_11eb_aed9_0242ac1c0002row7_col14,#T_3841fd12_9003_11eb_aed9_0242ac1c0002row7_col15,#T_3841fd12_9003_11eb_aed9_0242ac1c0002row7_col16,#T_3841fd12_9003_11eb_aed9_0242ac1c0002row7_col17,#T_3841fd12_9003_11eb_aed9_0242ac1c0002row8_col0,#T_3841fd12_9003_11eb_aed9_0242ac1c0002row8_col1,#T_3841fd12_9003_11eb_aed9_0242ac1c0002row8_col2,#T_3841fd12_9003_11eb_aed9_0242ac1c0002row8_col3,#T_3841fd12_9003_11eb_aed9_0242ac1c0002row8_col4,#T_3841fd12_9003_11eb_aed9_0242ac1c0002row8_col13,#T_3841fd12_9003_11eb_aed9_0242ac1c0002row8_col14,#T_3841fd12_9003_11eb_aed9_0242ac1c0002row8_col15,#T_3841fd12_9003_11eb_aed9_0242ac1c0002row8_col16,#T_3841fd12_9003_11eb_aed9_0242ac1c0002row8_col17,#T_3841fd12_9003_11eb_aed9_0242ac1c0002row9_col0,#T_3841fd12_9003_11eb_aed9_0242ac1c0002row9_col1,#T_3841fd12_9003_11eb_aed9_0242ac1c0002row9_col2,#T_3841fd12_9003_11eb_aed9_0242ac1c0002row9_col3,#T_3841fd12_9003_11eb_aed9_0242ac1c0002row9_col4,#T_3841fd12_9003_11eb_aed9_0242ac1c0002row9_col16,#T_3841fd12_9003_11eb_aed9_0242ac1c0002row9_col17,#T_3841fd12_9003_11eb_aed9_0242ac1c0002row10_col0,#T_3841fd12_9003_11eb_aed9_0242ac1c0002row10_col1,#T_3841fd12_9003_11eb_aed9_0242ac1c0002row10_col2,#T_3841fd12_9003_11eb_aed9_0242ac1c0002row10_col3,#T_3841fd12_9003_11eb_aed9_0242ac1c0002row10_col4,#T_3841fd12_9003_11eb_aed9_0242ac1c0002row10_col5,#T_3841fd12_9003_11eb_aed9_0242ac1c0002row10_col6,#T_3841fd12_9003_11eb_aed9_0242ac1c0002row10_col17{\n",
              "            font-size:  6pt;\n",
              "            background-color:  #ffffff;\n",
              "            color:  #000000;\n",
              "        }#T_3841fd12_9003_11eb_aed9_0242ac1c0002row1_col5{\n",
              "            font-size:  6pt;\n",
              "            background-color:  #efefef;\n",
              "            color:  #000000;\n",
              "        }#T_3841fd12_9003_11eb_aed9_0242ac1c0002row1_col6,#T_3841fd12_9003_11eb_aed9_0242ac1c0002row1_col13{\n",
              "            font-size:  6pt;\n",
              "            background-color:  #7c7c7c;\n",
              "            color:  #000000;\n",
              "        }#T_3841fd12_9003_11eb_aed9_0242ac1c0002row1_col7{\n",
              "            font-size:  6pt;\n",
              "            background-color:  #4a4a4a;\n",
              "            color:  #f1f1f1;\n",
              "        }#T_3841fd12_9003_11eb_aed9_0242ac1c0002row1_col8,#T_3841fd12_9003_11eb_aed9_0242ac1c0002row1_col9,#T_3841fd12_9003_11eb_aed9_0242ac1c0002row1_col10,#T_3841fd12_9003_11eb_aed9_0242ac1c0002row2_col5,#T_3841fd12_9003_11eb_aed9_0242ac1c0002row2_col6,#T_3841fd12_9003_11eb_aed9_0242ac1c0002row2_col7,#T_3841fd12_9003_11eb_aed9_0242ac1c0002row2_col11,#T_3841fd12_9003_11eb_aed9_0242ac1c0002row2_col12,#T_3841fd12_9003_11eb_aed9_0242ac1c0002row2_col13,#T_3841fd12_9003_11eb_aed9_0242ac1c0002row3_col4,#T_3841fd12_9003_11eb_aed9_0242ac1c0002row3_col12,#T_3841fd12_9003_11eb_aed9_0242ac1c0002row3_col13,#T_3841fd12_9003_11eb_aed9_0242ac1c0002row4_col1,#T_3841fd12_9003_11eb_aed9_0242ac1c0002row4_col2,#T_3841fd12_9003_11eb_aed9_0242ac1c0002row4_col3,#T_3841fd12_9003_11eb_aed9_0242ac1c0002row4_col12,#T_3841fd12_9003_11eb_aed9_0242ac1c0002row4_col13,#T_3841fd12_9003_11eb_aed9_0242ac1c0002row5_col12,#T_3841fd12_9003_11eb_aed9_0242ac1c0002row6_col11,#T_3841fd12_9003_11eb_aed9_0242ac1c0002row9_col11,#T_3841fd12_9003_11eb_aed9_0242ac1c0002row10_col11,#T_3841fd12_9003_11eb_aed9_0242ac1c0002row10_col12,#T_3841fd12_9003_11eb_aed9_0242ac1c0002row10_col13,#T_3841fd12_9003_11eb_aed9_0242ac1c0002row10_col14,#T_3841fd12_9003_11eb_aed9_0242ac1c0002row10_col15,#T_3841fd12_9003_11eb_aed9_0242ac1c0002row10_col16{\n",
              "            font-size:  6pt;\n",
              "            background-color:  #000000;\n",
              "            color:  #f1f1f1;\n",
              "        }#T_3841fd12_9003_11eb_aed9_0242ac1c0002row1_col11{\n",
              "            font-size:  6pt;\n",
              "            background-color:  #606060;\n",
              "            color:  #f1f1f1;\n",
              "        }#T_3841fd12_9003_11eb_aed9_0242ac1c0002row1_col12{\n",
              "            font-size:  6pt;\n",
              "            background-color:  #4d4d4d;\n",
              "            color:  #f1f1f1;\n",
              "        }#T_3841fd12_9003_11eb_aed9_0242ac1c0002row1_col14{\n",
              "            font-size:  6pt;\n",
              "            background-color:  #bbbbbb;\n",
              "            color:  #000000;\n",
              "        }#T_3841fd12_9003_11eb_aed9_0242ac1c0002row2_col3{\n",
              "            font-size:  6pt;\n",
              "            background-color:  #e4e4e4;\n",
              "            color:  #000000;\n",
              "        }#T_3841fd12_9003_11eb_aed9_0242ac1c0002row2_col4,#T_3841fd12_9003_11eb_aed9_0242ac1c0002row8_col6{\n",
              "            font-size:  6pt;\n",
              "            background-color:  #6b6b6b;\n",
              "            color:  #000000;\n",
              "        }#T_3841fd12_9003_11eb_aed9_0242ac1c0002row2_col8,#T_3841fd12_9003_11eb_aed9_0242ac1c0002row2_col14,#T_3841fd12_9003_11eb_aed9_0242ac1c0002row3_col14{\n",
              "            font-size:  6pt;\n",
              "            background-color:  #171717;\n",
              "            color:  #f1f1f1;\n",
              "        }#T_3841fd12_9003_11eb_aed9_0242ac1c0002row2_col9,#T_3841fd12_9003_11eb_aed9_0242ac1c0002row3_col11{\n",
              "            font-size:  6pt;\n",
              "            background-color:  #4b4b4b;\n",
              "            color:  #f1f1f1;\n",
              "        }#T_3841fd12_9003_11eb_aed9_0242ac1c0002row2_col10,#T_3841fd12_9003_11eb_aed9_0242ac1c0002row7_col10,#T_3841fd12_9003_11eb_aed9_0242ac1c0002row8_col8,#T_3841fd12_9003_11eb_aed9_0242ac1c0002row8_col10,#T_3841fd12_9003_11eb_aed9_0242ac1c0002row9_col8,#T_3841fd12_9003_11eb_aed9_0242ac1c0002row9_col10{\n",
              "            font-size:  6pt;\n",
              "            background-color:  #010101;\n",
              "            color:  #f1f1f1;\n",
              "        }#T_3841fd12_9003_11eb_aed9_0242ac1c0002row3_col1{\n",
              "            font-size:  6pt;\n",
              "            background-color:  #272727;\n",
              "            color:  #f1f1f1;\n",
              "        }#T_3841fd12_9003_11eb_aed9_0242ac1c0002row3_col2{\n",
              "            font-size:  6pt;\n",
              "            background-color:  #0a0a0a;\n",
              "            color:  #f1f1f1;\n",
              "        }#T_3841fd12_9003_11eb_aed9_0242ac1c0002row3_col3{\n",
              "            font-size:  6pt;\n",
              "            background-color:  #050505;\n",
              "            color:  #f1f1f1;\n",
              "        }#T_3841fd12_9003_11eb_aed9_0242ac1c0002row3_col5{\n",
              "            font-size:  6pt;\n",
              "            background-color:  #333333;\n",
              "            color:  #f1f1f1;\n",
              "        }#T_3841fd12_9003_11eb_aed9_0242ac1c0002row3_col6{\n",
              "            font-size:  6pt;\n",
              "            background-color:  #e6e6e6;\n",
              "            color:  #000000;\n",
              "        }#T_3841fd12_9003_11eb_aed9_0242ac1c0002row3_col7,#T_3841fd12_9003_11eb_aed9_0242ac1c0002row3_col10{\n",
              "            font-size:  6pt;\n",
              "            background-color:  #fafafa;\n",
              "            color:  #000000;\n",
              "        }#T_3841fd12_9003_11eb_aed9_0242ac1c0002row3_col8{\n",
              "            font-size:  6pt;\n",
              "            background-color:  #fbfbfb;\n",
              "            color:  #000000;\n",
              "        }#T_3841fd12_9003_11eb_aed9_0242ac1c0002row3_col9{\n",
              "            font-size:  6pt;\n",
              "            background-color:  #fdfdfd;\n",
              "            color:  #000000;\n",
              "        }#T_3841fd12_9003_11eb_aed9_0242ac1c0002row4_col4{\n",
              "            font-size:  6pt;\n",
              "            background-color:  #1b1b1b;\n",
              "            color:  #f1f1f1;\n",
              "        }#T_3841fd12_9003_11eb_aed9_0242ac1c0002row4_col5{\n",
              "            font-size:  6pt;\n",
              "            background-color:  #e0e0e0;\n",
              "            color:  #000000;\n",
              "        }#T_3841fd12_9003_11eb_aed9_0242ac1c0002row4_col11{\n",
              "            font-size:  6pt;\n",
              "            background-color:  #4e4e4e;\n",
              "            color:  #f1f1f1;\n",
              "        }#T_3841fd12_9003_11eb_aed9_0242ac1c0002row4_col14{\n",
              "            font-size:  6pt;\n",
              "            background-color:  #767676;\n",
              "            color:  #000000;\n",
              "        }#T_3841fd12_9003_11eb_aed9_0242ac1c0002row5_col1{\n",
              "            font-size:  6pt;\n",
              "            background-color:  #fcfcfc;\n",
              "            color:  #000000;\n",
              "        }#T_3841fd12_9003_11eb_aed9_0242ac1c0002row5_col2,#T_3841fd12_9003_11eb_aed9_0242ac1c0002row5_col3{\n",
              "            font-size:  6pt;\n",
              "            background-color:  #f6f6f6;\n",
              "            color:  #000000;\n",
              "        }#T_3841fd12_9003_11eb_aed9_0242ac1c0002row5_col4,#T_3841fd12_9003_11eb_aed9_0242ac1c0002row7_col7{\n",
              "            font-size:  6pt;\n",
              "            background-color:  #f8f8f8;\n",
              "            color:  #000000;\n",
              "        }#T_3841fd12_9003_11eb_aed9_0242ac1c0002row5_col10,#T_3841fd12_9003_11eb_aed9_0242ac1c0002row10_col7{\n",
              "            font-size:  6pt;\n",
              "            background-color:  #e8e8e8;\n",
              "            color:  #000000;\n",
              "        }#T_3841fd12_9003_11eb_aed9_0242ac1c0002row5_col11{\n",
              "            font-size:  6pt;\n",
              "            background-color:  #222222;\n",
              "            color:  #f1f1f1;\n",
              "        }#T_3841fd12_9003_11eb_aed9_0242ac1c0002row5_col13,#T_3841fd12_9003_11eb_aed9_0242ac1c0002row6_col12{\n",
              "            font-size:  6pt;\n",
              "            background-color:  #090909;\n",
              "            color:  #f1f1f1;\n",
              "        }#T_3841fd12_9003_11eb_aed9_0242ac1c0002row5_col14{\n",
              "            font-size:  6pt;\n",
              "            background-color:  #d0d0d0;\n",
              "            color:  #000000;\n",
              "        }#T_3841fd12_9003_11eb_aed9_0242ac1c0002row6_col10,#T_3841fd12_9003_11eb_aed9_0242ac1c0002row7_col11,#T_3841fd12_9003_11eb_aed9_0242ac1c0002row9_col6{\n",
              "            font-size:  6pt;\n",
              "            background-color:  #060606;\n",
              "            color:  #f1f1f1;\n",
              "        }#T_3841fd12_9003_11eb_aed9_0242ac1c0002row6_col13{\n",
              "            font-size:  6pt;\n",
              "            background-color:  #979797;\n",
              "            color:  #000000;\n",
              "        }#T_3841fd12_9003_11eb_aed9_0242ac1c0002row7_col8{\n",
              "            font-size:  6pt;\n",
              "            background-color:  #b6b6b6;\n",
              "            color:  #000000;\n",
              "        }#T_3841fd12_9003_11eb_aed9_0242ac1c0002row7_col9{\n",
              "            font-size:  6pt;\n",
              "            background-color:  #252525;\n",
              "            color:  #f1f1f1;\n",
              "        }#T_3841fd12_9003_11eb_aed9_0242ac1c0002row7_col12{\n",
              "            font-size:  6pt;\n",
              "            background-color:  #999999;\n",
              "            color:  #000000;\n",
              "        }#T_3841fd12_9003_11eb_aed9_0242ac1c0002row8_col5{\n",
              "            font-size:  6pt;\n",
              "            background-color:  #f9f9f9;\n",
              "            color:  #000000;\n",
              "        }#T_3841fd12_9003_11eb_aed9_0242ac1c0002row8_col7{\n",
              "            font-size:  6pt;\n",
              "            background-color:  #101010;\n",
              "            color:  #f1f1f1;\n",
              "        }#T_3841fd12_9003_11eb_aed9_0242ac1c0002row8_col9,#T_3841fd12_9003_11eb_aed9_0242ac1c0002row9_col9{\n",
              "            font-size:  6pt;\n",
              "            background-color:  #020202;\n",
              "            color:  #f1f1f1;\n",
              "        }#T_3841fd12_9003_11eb_aed9_0242ac1c0002row8_col11{\n",
              "            font-size:  6pt;\n",
              "            background-color:  #545454;\n",
              "            color:  #f1f1f1;\n",
              "        }#T_3841fd12_9003_11eb_aed9_0242ac1c0002row8_col12{\n",
              "            font-size:  6pt;\n",
              "            background-color:  #f1f1f1;\n",
              "            color:  #000000;\n",
              "        }#T_3841fd12_9003_11eb_aed9_0242ac1c0002row9_col5{\n",
              "            font-size:  6pt;\n",
              "            background-color:  #f7f7f7;\n",
              "            color:  #000000;\n",
              "        }#T_3841fd12_9003_11eb_aed9_0242ac1c0002row9_col7{\n",
              "            font-size:  6pt;\n",
              "            background-color:  #030303;\n",
              "            color:  #f1f1f1;\n",
              "        }#T_3841fd12_9003_11eb_aed9_0242ac1c0002row9_col12{\n",
              "            font-size:  6pt;\n",
              "            background-color:  #181818;\n",
              "            color:  #f1f1f1;\n",
              "        }#T_3841fd12_9003_11eb_aed9_0242ac1c0002row9_col13{\n",
              "            font-size:  6pt;\n",
              "            background-color:  #303030;\n",
              "            color:  #f1f1f1;\n",
              "        }#T_3841fd12_9003_11eb_aed9_0242ac1c0002row9_col14{\n",
              "            font-size:  6pt;\n",
              "            background-color:  #a9a9a9;\n",
              "            color:  #000000;\n",
              "        }#T_3841fd12_9003_11eb_aed9_0242ac1c0002row9_col15{\n",
              "            font-size:  6pt;\n",
              "            background-color:  #fefefe;\n",
              "            color:  #000000;\n",
              "        }#T_3841fd12_9003_11eb_aed9_0242ac1c0002row10_col8,#T_3841fd12_9003_11eb_aed9_0242ac1c0002row10_col9{\n",
              "            font-size:  6pt;\n",
              "            background-color:  #bababa;\n",
              "            color:  #000000;\n",
              "        }#T_3841fd12_9003_11eb_aed9_0242ac1c0002row10_col10{\n",
              "            font-size:  6pt;\n",
              "            background-color:  #393939;\n",
              "            color:  #f1f1f1;\n",
              "        }</style><table id=\"T_3841fd12_9003_11eb_aed9_0242ac1c0002\" ><thead>    <tr>        <th class=\"blank level0\" ></th>        <th class=\"col_heading level0 col0\" >0</th>        <th class=\"col_heading level0 col1\" >1</th>        <th class=\"col_heading level0 col2\" >2</th>        <th class=\"col_heading level0 col3\" >3</th>        <th class=\"col_heading level0 col4\" >4</th>        <th class=\"col_heading level0 col5\" >5</th>        <th class=\"col_heading level0 col6\" >6</th>        <th class=\"col_heading level0 col7\" >7</th>        <th class=\"col_heading level0 col8\" >8</th>        <th class=\"col_heading level0 col9\" >9</th>        <th class=\"col_heading level0 col10\" >10</th>        <th class=\"col_heading level0 col11\" >11</th>        <th class=\"col_heading level0 col12\" >12</th>        <th class=\"col_heading level0 col13\" >13</th>        <th class=\"col_heading level0 col14\" >14</th>        <th class=\"col_heading level0 col15\" >15</th>        <th class=\"col_heading level0 col16\" >16</th>        <th class=\"col_heading level0 col17\" >17</th>    </tr></thead><tbody>\n",
              "                <tr>\n",
              "                        <th id=\"T_3841fd12_9003_11eb_aed9_0242ac1c0002level0_row0\" class=\"row_heading level0 row0\" >0</th>\n",
              "                        <td id=\"T_3841fd12_9003_11eb_aed9_0242ac1c0002row0_col0\" class=\"data row0 col0\" >0</td>\n",
              "                        <td id=\"T_3841fd12_9003_11eb_aed9_0242ac1c0002row0_col1\" class=\"data row0 col1\" >0</td>\n",
              "                        <td id=\"T_3841fd12_9003_11eb_aed9_0242ac1c0002row0_col2\" class=\"data row0 col2\" >0</td>\n",
              "                        <td id=\"T_3841fd12_9003_11eb_aed9_0242ac1c0002row0_col3\" class=\"data row0 col3\" >0</td>\n",
              "                        <td id=\"T_3841fd12_9003_11eb_aed9_0242ac1c0002row0_col4\" class=\"data row0 col4\" >0</td>\n",
              "                        <td id=\"T_3841fd12_9003_11eb_aed9_0242ac1c0002row0_col5\" class=\"data row0 col5\" >0</td>\n",
              "                        <td id=\"T_3841fd12_9003_11eb_aed9_0242ac1c0002row0_col6\" class=\"data row0 col6\" >0</td>\n",
              "                        <td id=\"T_3841fd12_9003_11eb_aed9_0242ac1c0002row0_col7\" class=\"data row0 col7\" >0</td>\n",
              "                        <td id=\"T_3841fd12_9003_11eb_aed9_0242ac1c0002row0_col8\" class=\"data row0 col8\" >0</td>\n",
              "                        <td id=\"T_3841fd12_9003_11eb_aed9_0242ac1c0002row0_col9\" class=\"data row0 col9\" >0</td>\n",
              "                        <td id=\"T_3841fd12_9003_11eb_aed9_0242ac1c0002row0_col10\" class=\"data row0 col10\" >0</td>\n",
              "                        <td id=\"T_3841fd12_9003_11eb_aed9_0242ac1c0002row0_col11\" class=\"data row0 col11\" >0</td>\n",
              "                        <td id=\"T_3841fd12_9003_11eb_aed9_0242ac1c0002row0_col12\" class=\"data row0 col12\" >0</td>\n",
              "                        <td id=\"T_3841fd12_9003_11eb_aed9_0242ac1c0002row0_col13\" class=\"data row0 col13\" >0</td>\n",
              "                        <td id=\"T_3841fd12_9003_11eb_aed9_0242ac1c0002row0_col14\" class=\"data row0 col14\" >0</td>\n",
              "                        <td id=\"T_3841fd12_9003_11eb_aed9_0242ac1c0002row0_col15\" class=\"data row0 col15\" >0</td>\n",
              "                        <td id=\"T_3841fd12_9003_11eb_aed9_0242ac1c0002row0_col16\" class=\"data row0 col16\" >0</td>\n",
              "                        <td id=\"T_3841fd12_9003_11eb_aed9_0242ac1c0002row0_col17\" class=\"data row0 col17\" >0</td>\n",
              "            </tr>\n",
              "            <tr>\n",
              "                        <th id=\"T_3841fd12_9003_11eb_aed9_0242ac1c0002level0_row1\" class=\"row_heading level0 row1\" >1</th>\n",
              "                        <td id=\"T_3841fd12_9003_11eb_aed9_0242ac1c0002row1_col0\" class=\"data row1 col0\" >0</td>\n",
              "                        <td id=\"T_3841fd12_9003_11eb_aed9_0242ac1c0002row1_col1\" class=\"data row1 col1\" >0</td>\n",
              "                        <td id=\"T_3841fd12_9003_11eb_aed9_0242ac1c0002row1_col2\" class=\"data row1 col2\" >0</td>\n",
              "                        <td id=\"T_3841fd12_9003_11eb_aed9_0242ac1c0002row1_col3\" class=\"data row1 col3\" >0</td>\n",
              "                        <td id=\"T_3841fd12_9003_11eb_aed9_0242ac1c0002row1_col4\" class=\"data row1 col4\" >0</td>\n",
              "                        <td id=\"T_3841fd12_9003_11eb_aed9_0242ac1c0002row1_col5\" class=\"data row1 col5\" >29</td>\n",
              "                        <td id=\"T_3841fd12_9003_11eb_aed9_0242ac1c0002row1_col6\" class=\"data row1 col6\" >150</td>\n",
              "                        <td id=\"T_3841fd12_9003_11eb_aed9_0242ac1c0002row1_col7\" class=\"data row1 col7\" >195</td>\n",
              "                        <td id=\"T_3841fd12_9003_11eb_aed9_0242ac1c0002row1_col8\" class=\"data row1 col8\" >254</td>\n",
              "                        <td id=\"T_3841fd12_9003_11eb_aed9_0242ac1c0002row1_col9\" class=\"data row1 col9\" >255</td>\n",
              "                        <td id=\"T_3841fd12_9003_11eb_aed9_0242ac1c0002row1_col10\" class=\"data row1 col10\" >254</td>\n",
              "                        <td id=\"T_3841fd12_9003_11eb_aed9_0242ac1c0002row1_col11\" class=\"data row1 col11\" >176</td>\n",
              "                        <td id=\"T_3841fd12_9003_11eb_aed9_0242ac1c0002row1_col12\" class=\"data row1 col12\" >193</td>\n",
              "                        <td id=\"T_3841fd12_9003_11eb_aed9_0242ac1c0002row1_col13\" class=\"data row1 col13\" >150</td>\n",
              "                        <td id=\"T_3841fd12_9003_11eb_aed9_0242ac1c0002row1_col14\" class=\"data row1 col14\" >96</td>\n",
              "                        <td id=\"T_3841fd12_9003_11eb_aed9_0242ac1c0002row1_col15\" class=\"data row1 col15\" >0</td>\n",
              "                        <td id=\"T_3841fd12_9003_11eb_aed9_0242ac1c0002row1_col16\" class=\"data row1 col16\" >0</td>\n",
              "                        <td id=\"T_3841fd12_9003_11eb_aed9_0242ac1c0002row1_col17\" class=\"data row1 col17\" >0</td>\n",
              "            </tr>\n",
              "            <tr>\n",
              "                        <th id=\"T_3841fd12_9003_11eb_aed9_0242ac1c0002level0_row2\" class=\"row_heading level0 row2\" >2</th>\n",
              "                        <td id=\"T_3841fd12_9003_11eb_aed9_0242ac1c0002row2_col0\" class=\"data row2 col0\" >0</td>\n",
              "                        <td id=\"T_3841fd12_9003_11eb_aed9_0242ac1c0002row2_col1\" class=\"data row2 col1\" >0</td>\n",
              "                        <td id=\"T_3841fd12_9003_11eb_aed9_0242ac1c0002row2_col2\" class=\"data row2 col2\" >0</td>\n",
              "                        <td id=\"T_3841fd12_9003_11eb_aed9_0242ac1c0002row2_col3\" class=\"data row2 col3\" >48</td>\n",
              "                        <td id=\"T_3841fd12_9003_11eb_aed9_0242ac1c0002row2_col4\" class=\"data row2 col4\" >166</td>\n",
              "                        <td id=\"T_3841fd12_9003_11eb_aed9_0242ac1c0002row2_col5\" class=\"data row2 col5\" >224</td>\n",
              "                        <td id=\"T_3841fd12_9003_11eb_aed9_0242ac1c0002row2_col6\" class=\"data row2 col6\" >253</td>\n",
              "                        <td id=\"T_3841fd12_9003_11eb_aed9_0242ac1c0002row2_col7\" class=\"data row2 col7\" >253</td>\n",
              "                        <td id=\"T_3841fd12_9003_11eb_aed9_0242ac1c0002row2_col8\" class=\"data row2 col8\" >234</td>\n",
              "                        <td id=\"T_3841fd12_9003_11eb_aed9_0242ac1c0002row2_col9\" class=\"data row2 col9\" >196</td>\n",
              "                        <td id=\"T_3841fd12_9003_11eb_aed9_0242ac1c0002row2_col10\" class=\"data row2 col10\" >253</td>\n",
              "                        <td id=\"T_3841fd12_9003_11eb_aed9_0242ac1c0002row2_col11\" class=\"data row2 col11\" >253</td>\n",
              "                        <td id=\"T_3841fd12_9003_11eb_aed9_0242ac1c0002row2_col12\" class=\"data row2 col12\" >253</td>\n",
              "                        <td id=\"T_3841fd12_9003_11eb_aed9_0242ac1c0002row2_col13\" class=\"data row2 col13\" >253</td>\n",
              "                        <td id=\"T_3841fd12_9003_11eb_aed9_0242ac1c0002row2_col14\" class=\"data row2 col14\" >233</td>\n",
              "                        <td id=\"T_3841fd12_9003_11eb_aed9_0242ac1c0002row2_col15\" class=\"data row2 col15\" >0</td>\n",
              "                        <td id=\"T_3841fd12_9003_11eb_aed9_0242ac1c0002row2_col16\" class=\"data row2 col16\" >0</td>\n",
              "                        <td id=\"T_3841fd12_9003_11eb_aed9_0242ac1c0002row2_col17\" class=\"data row2 col17\" >0</td>\n",
              "            </tr>\n",
              "            <tr>\n",
              "                        <th id=\"T_3841fd12_9003_11eb_aed9_0242ac1c0002level0_row3\" class=\"row_heading level0 row3\" >3</th>\n",
              "                        <td id=\"T_3841fd12_9003_11eb_aed9_0242ac1c0002row3_col0\" class=\"data row3 col0\" >0</td>\n",
              "                        <td id=\"T_3841fd12_9003_11eb_aed9_0242ac1c0002row3_col1\" class=\"data row3 col1\" >93</td>\n",
              "                        <td id=\"T_3841fd12_9003_11eb_aed9_0242ac1c0002row3_col2\" class=\"data row3 col2\" >244</td>\n",
              "                        <td id=\"T_3841fd12_9003_11eb_aed9_0242ac1c0002row3_col3\" class=\"data row3 col3\" >249</td>\n",
              "                        <td id=\"T_3841fd12_9003_11eb_aed9_0242ac1c0002row3_col4\" class=\"data row3 col4\" >253</td>\n",
              "                        <td id=\"T_3841fd12_9003_11eb_aed9_0242ac1c0002row3_col5\" class=\"data row3 col5\" >187</td>\n",
              "                        <td id=\"T_3841fd12_9003_11eb_aed9_0242ac1c0002row3_col6\" class=\"data row3 col6\" >46</td>\n",
              "                        <td id=\"T_3841fd12_9003_11eb_aed9_0242ac1c0002row3_col7\" class=\"data row3 col7\" >10</td>\n",
              "                        <td id=\"T_3841fd12_9003_11eb_aed9_0242ac1c0002row3_col8\" class=\"data row3 col8\" >8</td>\n",
              "                        <td id=\"T_3841fd12_9003_11eb_aed9_0242ac1c0002row3_col9\" class=\"data row3 col9\" >4</td>\n",
              "                        <td id=\"T_3841fd12_9003_11eb_aed9_0242ac1c0002row3_col10\" class=\"data row3 col10\" >10</td>\n",
              "                        <td id=\"T_3841fd12_9003_11eb_aed9_0242ac1c0002row3_col11\" class=\"data row3 col11\" >194</td>\n",
              "                        <td id=\"T_3841fd12_9003_11eb_aed9_0242ac1c0002row3_col12\" class=\"data row3 col12\" >253</td>\n",
              "                        <td id=\"T_3841fd12_9003_11eb_aed9_0242ac1c0002row3_col13\" class=\"data row3 col13\" >253</td>\n",
              "                        <td id=\"T_3841fd12_9003_11eb_aed9_0242ac1c0002row3_col14\" class=\"data row3 col14\" >233</td>\n",
              "                        <td id=\"T_3841fd12_9003_11eb_aed9_0242ac1c0002row3_col15\" class=\"data row3 col15\" >0</td>\n",
              "                        <td id=\"T_3841fd12_9003_11eb_aed9_0242ac1c0002row3_col16\" class=\"data row3 col16\" >0</td>\n",
              "                        <td id=\"T_3841fd12_9003_11eb_aed9_0242ac1c0002row3_col17\" class=\"data row3 col17\" >0</td>\n",
              "            </tr>\n",
              "            <tr>\n",
              "                        <th id=\"T_3841fd12_9003_11eb_aed9_0242ac1c0002level0_row4\" class=\"row_heading level0 row4\" >4</th>\n",
              "                        <td id=\"T_3841fd12_9003_11eb_aed9_0242ac1c0002row4_col0\" class=\"data row4 col0\" >0</td>\n",
              "                        <td id=\"T_3841fd12_9003_11eb_aed9_0242ac1c0002row4_col1\" class=\"data row4 col1\" >107</td>\n",
              "                        <td id=\"T_3841fd12_9003_11eb_aed9_0242ac1c0002row4_col2\" class=\"data row4 col2\" >253</td>\n",
              "                        <td id=\"T_3841fd12_9003_11eb_aed9_0242ac1c0002row4_col3\" class=\"data row4 col3\" >253</td>\n",
              "                        <td id=\"T_3841fd12_9003_11eb_aed9_0242ac1c0002row4_col4\" class=\"data row4 col4\" >230</td>\n",
              "                        <td id=\"T_3841fd12_9003_11eb_aed9_0242ac1c0002row4_col5\" class=\"data row4 col5\" >48</td>\n",
              "                        <td id=\"T_3841fd12_9003_11eb_aed9_0242ac1c0002row4_col6\" class=\"data row4 col6\" >0</td>\n",
              "                        <td id=\"T_3841fd12_9003_11eb_aed9_0242ac1c0002row4_col7\" class=\"data row4 col7\" >0</td>\n",
              "                        <td id=\"T_3841fd12_9003_11eb_aed9_0242ac1c0002row4_col8\" class=\"data row4 col8\" >0</td>\n",
              "                        <td id=\"T_3841fd12_9003_11eb_aed9_0242ac1c0002row4_col9\" class=\"data row4 col9\" >0</td>\n",
              "                        <td id=\"T_3841fd12_9003_11eb_aed9_0242ac1c0002row4_col10\" class=\"data row4 col10\" >0</td>\n",
              "                        <td id=\"T_3841fd12_9003_11eb_aed9_0242ac1c0002row4_col11\" class=\"data row4 col11\" >192</td>\n",
              "                        <td id=\"T_3841fd12_9003_11eb_aed9_0242ac1c0002row4_col12\" class=\"data row4 col12\" >253</td>\n",
              "                        <td id=\"T_3841fd12_9003_11eb_aed9_0242ac1c0002row4_col13\" class=\"data row4 col13\" >253</td>\n",
              "                        <td id=\"T_3841fd12_9003_11eb_aed9_0242ac1c0002row4_col14\" class=\"data row4 col14\" >156</td>\n",
              "                        <td id=\"T_3841fd12_9003_11eb_aed9_0242ac1c0002row4_col15\" class=\"data row4 col15\" >0</td>\n",
              "                        <td id=\"T_3841fd12_9003_11eb_aed9_0242ac1c0002row4_col16\" class=\"data row4 col16\" >0</td>\n",
              "                        <td id=\"T_3841fd12_9003_11eb_aed9_0242ac1c0002row4_col17\" class=\"data row4 col17\" >0</td>\n",
              "            </tr>\n",
              "            <tr>\n",
              "                        <th id=\"T_3841fd12_9003_11eb_aed9_0242ac1c0002level0_row5\" class=\"row_heading level0 row5\" >5</th>\n",
              "                        <td id=\"T_3841fd12_9003_11eb_aed9_0242ac1c0002row5_col0\" class=\"data row5 col0\" >0</td>\n",
              "                        <td id=\"T_3841fd12_9003_11eb_aed9_0242ac1c0002row5_col1\" class=\"data row5 col1\" >3</td>\n",
              "                        <td id=\"T_3841fd12_9003_11eb_aed9_0242ac1c0002row5_col2\" class=\"data row5 col2\" >20</td>\n",
              "                        <td id=\"T_3841fd12_9003_11eb_aed9_0242ac1c0002row5_col3\" class=\"data row5 col3\" >20</td>\n",
              "                        <td id=\"T_3841fd12_9003_11eb_aed9_0242ac1c0002row5_col4\" class=\"data row5 col4\" >15</td>\n",
              "                        <td id=\"T_3841fd12_9003_11eb_aed9_0242ac1c0002row5_col5\" class=\"data row5 col5\" >0</td>\n",
              "                        <td id=\"T_3841fd12_9003_11eb_aed9_0242ac1c0002row5_col6\" class=\"data row5 col6\" >0</td>\n",
              "                        <td id=\"T_3841fd12_9003_11eb_aed9_0242ac1c0002row5_col7\" class=\"data row5 col7\" >0</td>\n",
              "                        <td id=\"T_3841fd12_9003_11eb_aed9_0242ac1c0002row5_col8\" class=\"data row5 col8\" >0</td>\n",
              "                        <td id=\"T_3841fd12_9003_11eb_aed9_0242ac1c0002row5_col9\" class=\"data row5 col9\" >0</td>\n",
              "                        <td id=\"T_3841fd12_9003_11eb_aed9_0242ac1c0002row5_col10\" class=\"data row5 col10\" >43</td>\n",
              "                        <td id=\"T_3841fd12_9003_11eb_aed9_0242ac1c0002row5_col11\" class=\"data row5 col11\" >224</td>\n",
              "                        <td id=\"T_3841fd12_9003_11eb_aed9_0242ac1c0002row5_col12\" class=\"data row5 col12\" >253</td>\n",
              "                        <td id=\"T_3841fd12_9003_11eb_aed9_0242ac1c0002row5_col13\" class=\"data row5 col13\" >245</td>\n",
              "                        <td id=\"T_3841fd12_9003_11eb_aed9_0242ac1c0002row5_col14\" class=\"data row5 col14\" >74</td>\n",
              "                        <td id=\"T_3841fd12_9003_11eb_aed9_0242ac1c0002row5_col15\" class=\"data row5 col15\" >0</td>\n",
              "                        <td id=\"T_3841fd12_9003_11eb_aed9_0242ac1c0002row5_col16\" class=\"data row5 col16\" >0</td>\n",
              "                        <td id=\"T_3841fd12_9003_11eb_aed9_0242ac1c0002row5_col17\" class=\"data row5 col17\" >0</td>\n",
              "            </tr>\n",
              "            <tr>\n",
              "                        <th id=\"T_3841fd12_9003_11eb_aed9_0242ac1c0002level0_row6\" class=\"row_heading level0 row6\" >6</th>\n",
              "                        <td id=\"T_3841fd12_9003_11eb_aed9_0242ac1c0002row6_col0\" class=\"data row6 col0\" >0</td>\n",
              "                        <td id=\"T_3841fd12_9003_11eb_aed9_0242ac1c0002row6_col1\" class=\"data row6 col1\" >0</td>\n",
              "                        <td id=\"T_3841fd12_9003_11eb_aed9_0242ac1c0002row6_col2\" class=\"data row6 col2\" >0</td>\n",
              "                        <td id=\"T_3841fd12_9003_11eb_aed9_0242ac1c0002row6_col3\" class=\"data row6 col3\" >0</td>\n",
              "                        <td id=\"T_3841fd12_9003_11eb_aed9_0242ac1c0002row6_col4\" class=\"data row6 col4\" >0</td>\n",
              "                        <td id=\"T_3841fd12_9003_11eb_aed9_0242ac1c0002row6_col5\" class=\"data row6 col5\" >0</td>\n",
              "                        <td id=\"T_3841fd12_9003_11eb_aed9_0242ac1c0002row6_col6\" class=\"data row6 col6\" >0</td>\n",
              "                        <td id=\"T_3841fd12_9003_11eb_aed9_0242ac1c0002row6_col7\" class=\"data row6 col7\" >0</td>\n",
              "                        <td id=\"T_3841fd12_9003_11eb_aed9_0242ac1c0002row6_col8\" class=\"data row6 col8\" >0</td>\n",
              "                        <td id=\"T_3841fd12_9003_11eb_aed9_0242ac1c0002row6_col9\" class=\"data row6 col9\" >0</td>\n",
              "                        <td id=\"T_3841fd12_9003_11eb_aed9_0242ac1c0002row6_col10\" class=\"data row6 col10\" >249</td>\n",
              "                        <td id=\"T_3841fd12_9003_11eb_aed9_0242ac1c0002row6_col11\" class=\"data row6 col11\" >253</td>\n",
              "                        <td id=\"T_3841fd12_9003_11eb_aed9_0242ac1c0002row6_col12\" class=\"data row6 col12\" >245</td>\n",
              "                        <td id=\"T_3841fd12_9003_11eb_aed9_0242ac1c0002row6_col13\" class=\"data row6 col13\" >126</td>\n",
              "                        <td id=\"T_3841fd12_9003_11eb_aed9_0242ac1c0002row6_col14\" class=\"data row6 col14\" >0</td>\n",
              "                        <td id=\"T_3841fd12_9003_11eb_aed9_0242ac1c0002row6_col15\" class=\"data row6 col15\" >0</td>\n",
              "                        <td id=\"T_3841fd12_9003_11eb_aed9_0242ac1c0002row6_col16\" class=\"data row6 col16\" >0</td>\n",
              "                        <td id=\"T_3841fd12_9003_11eb_aed9_0242ac1c0002row6_col17\" class=\"data row6 col17\" >0</td>\n",
              "            </tr>\n",
              "            <tr>\n",
              "                        <th id=\"T_3841fd12_9003_11eb_aed9_0242ac1c0002level0_row7\" class=\"row_heading level0 row7\" >7</th>\n",
              "                        <td id=\"T_3841fd12_9003_11eb_aed9_0242ac1c0002row7_col0\" class=\"data row7 col0\" >0</td>\n",
              "                        <td id=\"T_3841fd12_9003_11eb_aed9_0242ac1c0002row7_col1\" class=\"data row7 col1\" >0</td>\n",
              "                        <td id=\"T_3841fd12_9003_11eb_aed9_0242ac1c0002row7_col2\" class=\"data row7 col2\" >0</td>\n",
              "                        <td id=\"T_3841fd12_9003_11eb_aed9_0242ac1c0002row7_col3\" class=\"data row7 col3\" >0</td>\n",
              "                        <td id=\"T_3841fd12_9003_11eb_aed9_0242ac1c0002row7_col4\" class=\"data row7 col4\" >0</td>\n",
              "                        <td id=\"T_3841fd12_9003_11eb_aed9_0242ac1c0002row7_col5\" class=\"data row7 col5\" >0</td>\n",
              "                        <td id=\"T_3841fd12_9003_11eb_aed9_0242ac1c0002row7_col6\" class=\"data row7 col6\" >0</td>\n",
              "                        <td id=\"T_3841fd12_9003_11eb_aed9_0242ac1c0002row7_col7\" class=\"data row7 col7\" >14</td>\n",
              "                        <td id=\"T_3841fd12_9003_11eb_aed9_0242ac1c0002row7_col8\" class=\"data row7 col8\" >101</td>\n",
              "                        <td id=\"T_3841fd12_9003_11eb_aed9_0242ac1c0002row7_col9\" class=\"data row7 col9\" >223</td>\n",
              "                        <td id=\"T_3841fd12_9003_11eb_aed9_0242ac1c0002row7_col10\" class=\"data row7 col10\" >253</td>\n",
              "                        <td id=\"T_3841fd12_9003_11eb_aed9_0242ac1c0002row7_col11\" class=\"data row7 col11\" >248</td>\n",
              "                        <td id=\"T_3841fd12_9003_11eb_aed9_0242ac1c0002row7_col12\" class=\"data row7 col12\" >124</td>\n",
              "                        <td id=\"T_3841fd12_9003_11eb_aed9_0242ac1c0002row7_col13\" class=\"data row7 col13\" >0</td>\n",
              "                        <td id=\"T_3841fd12_9003_11eb_aed9_0242ac1c0002row7_col14\" class=\"data row7 col14\" >0</td>\n",
              "                        <td id=\"T_3841fd12_9003_11eb_aed9_0242ac1c0002row7_col15\" class=\"data row7 col15\" >0</td>\n",
              "                        <td id=\"T_3841fd12_9003_11eb_aed9_0242ac1c0002row7_col16\" class=\"data row7 col16\" >0</td>\n",
              "                        <td id=\"T_3841fd12_9003_11eb_aed9_0242ac1c0002row7_col17\" class=\"data row7 col17\" >0</td>\n",
              "            </tr>\n",
              "            <tr>\n",
              "                        <th id=\"T_3841fd12_9003_11eb_aed9_0242ac1c0002level0_row8\" class=\"row_heading level0 row8\" >8</th>\n",
              "                        <td id=\"T_3841fd12_9003_11eb_aed9_0242ac1c0002row8_col0\" class=\"data row8 col0\" >0</td>\n",
              "                        <td id=\"T_3841fd12_9003_11eb_aed9_0242ac1c0002row8_col1\" class=\"data row8 col1\" >0</td>\n",
              "                        <td id=\"T_3841fd12_9003_11eb_aed9_0242ac1c0002row8_col2\" class=\"data row8 col2\" >0</td>\n",
              "                        <td id=\"T_3841fd12_9003_11eb_aed9_0242ac1c0002row8_col3\" class=\"data row8 col3\" >0</td>\n",
              "                        <td id=\"T_3841fd12_9003_11eb_aed9_0242ac1c0002row8_col4\" class=\"data row8 col4\" >0</td>\n",
              "                        <td id=\"T_3841fd12_9003_11eb_aed9_0242ac1c0002row8_col5\" class=\"data row8 col5\" >11</td>\n",
              "                        <td id=\"T_3841fd12_9003_11eb_aed9_0242ac1c0002row8_col6\" class=\"data row8 col6\" >166</td>\n",
              "                        <td id=\"T_3841fd12_9003_11eb_aed9_0242ac1c0002row8_col7\" class=\"data row8 col7\" >239</td>\n",
              "                        <td id=\"T_3841fd12_9003_11eb_aed9_0242ac1c0002row8_col8\" class=\"data row8 col8\" >253</td>\n",
              "                        <td id=\"T_3841fd12_9003_11eb_aed9_0242ac1c0002row8_col9\" class=\"data row8 col9\" >253</td>\n",
              "                        <td id=\"T_3841fd12_9003_11eb_aed9_0242ac1c0002row8_col10\" class=\"data row8 col10\" >253</td>\n",
              "                        <td id=\"T_3841fd12_9003_11eb_aed9_0242ac1c0002row8_col11\" class=\"data row8 col11\" >187</td>\n",
              "                        <td id=\"T_3841fd12_9003_11eb_aed9_0242ac1c0002row8_col12\" class=\"data row8 col12\" >30</td>\n",
              "                        <td id=\"T_3841fd12_9003_11eb_aed9_0242ac1c0002row8_col13\" class=\"data row8 col13\" >0</td>\n",
              "                        <td id=\"T_3841fd12_9003_11eb_aed9_0242ac1c0002row8_col14\" class=\"data row8 col14\" >0</td>\n",
              "                        <td id=\"T_3841fd12_9003_11eb_aed9_0242ac1c0002row8_col15\" class=\"data row8 col15\" >0</td>\n",
              "                        <td id=\"T_3841fd12_9003_11eb_aed9_0242ac1c0002row8_col16\" class=\"data row8 col16\" >0</td>\n",
              "                        <td id=\"T_3841fd12_9003_11eb_aed9_0242ac1c0002row8_col17\" class=\"data row8 col17\" >0</td>\n",
              "            </tr>\n",
              "            <tr>\n",
              "                        <th id=\"T_3841fd12_9003_11eb_aed9_0242ac1c0002level0_row9\" class=\"row_heading level0 row9\" >9</th>\n",
              "                        <td id=\"T_3841fd12_9003_11eb_aed9_0242ac1c0002row9_col0\" class=\"data row9 col0\" >0</td>\n",
              "                        <td id=\"T_3841fd12_9003_11eb_aed9_0242ac1c0002row9_col1\" class=\"data row9 col1\" >0</td>\n",
              "                        <td id=\"T_3841fd12_9003_11eb_aed9_0242ac1c0002row9_col2\" class=\"data row9 col2\" >0</td>\n",
              "                        <td id=\"T_3841fd12_9003_11eb_aed9_0242ac1c0002row9_col3\" class=\"data row9 col3\" >0</td>\n",
              "                        <td id=\"T_3841fd12_9003_11eb_aed9_0242ac1c0002row9_col4\" class=\"data row9 col4\" >0</td>\n",
              "                        <td id=\"T_3841fd12_9003_11eb_aed9_0242ac1c0002row9_col5\" class=\"data row9 col5\" >16</td>\n",
              "                        <td id=\"T_3841fd12_9003_11eb_aed9_0242ac1c0002row9_col6\" class=\"data row9 col6\" >248</td>\n",
              "                        <td id=\"T_3841fd12_9003_11eb_aed9_0242ac1c0002row9_col7\" class=\"data row9 col7\" >250</td>\n",
              "                        <td id=\"T_3841fd12_9003_11eb_aed9_0242ac1c0002row9_col8\" class=\"data row9 col8\" >253</td>\n",
              "                        <td id=\"T_3841fd12_9003_11eb_aed9_0242ac1c0002row9_col9\" class=\"data row9 col9\" >253</td>\n",
              "                        <td id=\"T_3841fd12_9003_11eb_aed9_0242ac1c0002row9_col10\" class=\"data row9 col10\" >253</td>\n",
              "                        <td id=\"T_3841fd12_9003_11eb_aed9_0242ac1c0002row9_col11\" class=\"data row9 col11\" >253</td>\n",
              "                        <td id=\"T_3841fd12_9003_11eb_aed9_0242ac1c0002row9_col12\" class=\"data row9 col12\" >232</td>\n",
              "                        <td id=\"T_3841fd12_9003_11eb_aed9_0242ac1c0002row9_col13\" class=\"data row9 col13\" >213</td>\n",
              "                        <td id=\"T_3841fd12_9003_11eb_aed9_0242ac1c0002row9_col14\" class=\"data row9 col14\" >111</td>\n",
              "                        <td id=\"T_3841fd12_9003_11eb_aed9_0242ac1c0002row9_col15\" class=\"data row9 col15\" >2</td>\n",
              "                        <td id=\"T_3841fd12_9003_11eb_aed9_0242ac1c0002row9_col16\" class=\"data row9 col16\" >0</td>\n",
              "                        <td id=\"T_3841fd12_9003_11eb_aed9_0242ac1c0002row9_col17\" class=\"data row9 col17\" >0</td>\n",
              "            </tr>\n",
              "            <tr>\n",
              "                        <th id=\"T_3841fd12_9003_11eb_aed9_0242ac1c0002level0_row10\" class=\"row_heading level0 row10\" >10</th>\n",
              "                        <td id=\"T_3841fd12_9003_11eb_aed9_0242ac1c0002row10_col0\" class=\"data row10 col0\" >0</td>\n",
              "                        <td id=\"T_3841fd12_9003_11eb_aed9_0242ac1c0002row10_col1\" class=\"data row10 col1\" >0</td>\n",
              "                        <td id=\"T_3841fd12_9003_11eb_aed9_0242ac1c0002row10_col2\" class=\"data row10 col2\" >0</td>\n",
              "                        <td id=\"T_3841fd12_9003_11eb_aed9_0242ac1c0002row10_col3\" class=\"data row10 col3\" >0</td>\n",
              "                        <td id=\"T_3841fd12_9003_11eb_aed9_0242ac1c0002row10_col4\" class=\"data row10 col4\" >0</td>\n",
              "                        <td id=\"T_3841fd12_9003_11eb_aed9_0242ac1c0002row10_col5\" class=\"data row10 col5\" >0</td>\n",
              "                        <td id=\"T_3841fd12_9003_11eb_aed9_0242ac1c0002row10_col6\" class=\"data row10 col6\" >0</td>\n",
              "                        <td id=\"T_3841fd12_9003_11eb_aed9_0242ac1c0002row10_col7\" class=\"data row10 col7\" >43</td>\n",
              "                        <td id=\"T_3841fd12_9003_11eb_aed9_0242ac1c0002row10_col8\" class=\"data row10 col8\" >98</td>\n",
              "                        <td id=\"T_3841fd12_9003_11eb_aed9_0242ac1c0002row10_col9\" class=\"data row10 col9\" >98</td>\n",
              "                        <td id=\"T_3841fd12_9003_11eb_aed9_0242ac1c0002row10_col10\" class=\"data row10 col10\" >208</td>\n",
              "                        <td id=\"T_3841fd12_9003_11eb_aed9_0242ac1c0002row10_col11\" class=\"data row10 col11\" >253</td>\n",
              "                        <td id=\"T_3841fd12_9003_11eb_aed9_0242ac1c0002row10_col12\" class=\"data row10 col12\" >253</td>\n",
              "                        <td id=\"T_3841fd12_9003_11eb_aed9_0242ac1c0002row10_col13\" class=\"data row10 col13\" >253</td>\n",
              "                        <td id=\"T_3841fd12_9003_11eb_aed9_0242ac1c0002row10_col14\" class=\"data row10 col14\" >253</td>\n",
              "                        <td id=\"T_3841fd12_9003_11eb_aed9_0242ac1c0002row10_col15\" class=\"data row10 col15\" >187</td>\n",
              "                        <td id=\"T_3841fd12_9003_11eb_aed9_0242ac1c0002row10_col16\" class=\"data row10 col16\" >22</td>\n",
              "                        <td id=\"T_3841fd12_9003_11eb_aed9_0242ac1c0002row10_col17\" class=\"data row10 col17\" >0</td>\n",
              "            </tr>\n",
              "    </tbody></table>"
            ],
            "text/plain": [
              "<pandas.io.formats.style.Styler at 0x7ff178645850>"
            ]
          },
          "metadata": {
            "tags": []
          },
          "execution_count": 40
        }
      ]
    },
    {
      "cell_type": "markdown",
      "metadata": {
        "id": "bE5XsR7kgKhd"
      },
      "source": [
        "### Create a model MNIST classifier that can recognize 3s and 7s with a MINI Batch Gradient Descent. "
      ]
    },
    {
      "cell_type": "code",
      "metadata": {
        "colab": {
          "base_uri": "https://localhost:8080/"
        },
        "id": "dOgM8WSZf0vM",
        "outputId": "542d3dee-fd81-47f9-f675-0a074b916da3"
      },
      "source": [
        "# Step one for our simple model is to get the average of pixel values for each of our two groups using numpy array.\n",
        "seven_array = [array(Image.open(o)) for o in seven]\n",
        "three_array = [array(Image.open(o)) for o in three]\n",
        "len(three_array),len(seven_array)"
      ],
      "execution_count": 43,
      "outputs": [
        {
          "output_type": "execute_result",
          "data": {
            "text/plain": [
              "(6131, 6265)"
            ]
          },
          "metadata": {
            "tags": []
          },
          "execution_count": 43
        }
      ]
    },
    {
      "cell_type": "code",
      "metadata": {
        "colab": {
          "base_uri": "https://localhost:8080/",
          "height": 85
        },
        "id": "-QSiYoDZhQ4M",
        "outputId": "9d5ada69-494b-407d-9e3c-ccff81f33963"
      },
      "source": [
        "show_image(three_array[1]);"
      ],
      "execution_count": 44,
      "outputs": [
        {
          "output_type": "display_data",
          "data": {
            "image/png": "[encoded data removed]",
            "text/plain": [
              "<Figure size 72x72 with 1 Axes>"
            ]
          },
          "metadata": {
            "tags": [],
            "needs_background": "light"
          }
        }
      ]
    },
    {
      "cell_type": "markdown",
      "metadata": {
        "id": "C776ArSs1KOs"
      },
      "source": [
        "Convert numpy array to tensor to stack the 3s and 7s sample dataset"
      ]
    },
    {
      "cell_type": "code",
      "metadata": {
        "colab": {
          "base_uri": "https://localhost:8080/",
          "height": 85
        },
        "id": "LXqel-PuiKqF",
        "outputId": "ea82d16f-b1e5-49f7-e82e-97569a632b2c"
      },
      "source": [
        "# Convert Numpy -> PyTorch\n",
        "seven_tensor = [tensor(Image.open(o)) for o in seven]\n",
        "three_tensor = [tensor(Image.open(o)) for o in three]\n",
        "len(three_tensor),len(seven_tensor)\n",
        "show_image(three_tensor[1]);"
      ],
      "execution_count": 53,
      "outputs": [
        {
          "output_type": "display_data",
          "data": {
            "image/png": "[encoded data removed]",
            "text/plain": [
              "<Figure size 72x72 with 1 Axes>"
            ]
          },
          "metadata": {
            "tags": [],
            "needs_background": "light"
          }
        }
      ]
    },
    {
      "cell_type": "markdown",
      "metadata": {
        "id": "Qiosu-WM3N6J"
      },
      "source": [
        "The most important attribute of a tensor is its shape. Tensor is similar to numpy array, it shows  the length of each axis. In this sample, we can see that we have 6,131 images, each of size 28×28 pixels. "
      ]
    },
    {
      "cell_type": "markdown",
      "metadata": {
        "id": "P70jvSQw5KQf"
      },
      "source": [
        "A NumPy array is a multidimensional table of data, with all items of the same type. Since that can be any type at all, they can even be arrays of arrays, with the innermost arrays potentially being different sizes—this is called a \"jagged array.\" By \"multidimensional table\" we mean, for instance, a list (dimension of one), a table or matrix (dimension of two), a \"table of tables\" or \"cube\" (dimension of three), and so forth.\n"
      ]
    },
    {
      "cell_type": "markdown",
      "metadata": {
        "id": "PYSxDW005TgX"
      },
      "source": [
        "A PyTorch tensor is nearly the same thing as a NumPy array, but with an additional restriction that unlocks some additional capabilities. However, the restriction is that a tensor cannot use just any old type—it has to use a single basic numeric type for all components. For example, a PyTorch tensor cannot be jagged. It is always a regularly shaped multidimensional rectangular structure.\n",
        "\n",
        "The vast majority of methods and operators supported by NumPy on these structures are also supported by PyTorch, but PyTorch tensors have additional capabilities. One major capability is that these structures can live on the GPU, in which case their computation will be optimized for the GPU and can run much faster (given lots of values to work on)."
      ]
    },
    {
      "cell_type": "code",
      "metadata": {
        "colab": {
          "base_uri": "https://localhost:8080/"
        },
        "id": "92XP7nY92my5",
        "outputId": "63c55a5b-d16c-435c-ecdd-6454b544dd44"
      },
      "source": [
        "# Stacked the sample dataset\n",
        "stacked_sevens = torch.stack(seven_tensor).float()/255\n",
        "stacked_threes = torch.stack(three_tensor).float()/255\n",
        "stacked_threes.shape"
      ],
      "execution_count": 61,
      "outputs": [
        {
          "output_type": "execute_result",
          "data": {
            "text/plain": [
              "torch.Size([6131, 28, 28])"
            ]
          },
          "metadata": {
            "tags": []
          },
          "execution_count": 61
        }
      ]
    },
    {
      "cell_type": "code",
      "metadata": {
        "colab": {
          "base_uri": "https://localhost:8080/"
        },
        "id": "kj_1xb0t6azM",
        "outputId": "36105665-0393-425f-a329-c6bf50ca56b3"
      },
      "source": [
        "len(stacked_threes.shape)"
      ],
      "execution_count": 62,
      "outputs": [
        {
          "output_type": "execute_result",
          "data": {
            "text/plain": [
              "3"
            ]
          },
          "metadata": {
            "tags": []
          },
          "execution_count": 62
        }
      ]
    },
    {
      "cell_type": "code",
      "metadata": {
        "colab": {
          "base_uri": "https://localhost:8080/"
        },
        "id": "XJtFpCGt6m-Y",
        "outputId": "a48a96ec-2827-4434-bf8e-0096c3a3f2b7"
      },
      "source": [
        "# We can also get a tensor's rank directly with ndim:\n",
        "stacked_threes.ndim"
      ],
      "execution_count": 63,
      "outputs": [
        {
          "output_type": "execute_result",
          "data": {
            "text/plain": [
              "3"
            ]
          },
          "metadata": {
            "tags": []
          },
          "execution_count": 63
        }
      ]
    },
    {
      "cell_type": "markdown",
      "metadata": {
        "id": "3vQqtSDJ463i"
      },
      "source": [
        "Calculate the mean of all the image tensors by computing the mean along dimension 0 of our stacked, rank-3 tensor."
      ]
    },
    {
      "cell_type": "code",
      "metadata": {
        "colab": {
          "base_uri": "https://localhost:8080/",
          "height": 85
        },
        "id": "siy6c8_80R4U",
        "outputId": "9eaad58f-a45c-447f-c15b-1bac1b14d9da"
      },
      "source": [
        "mean3 = stacked_threes.mean(0)\n",
        "show_image(mean3);"
      ],
      "execution_count": 64,
      "outputs": [
        {
          "output_type": "display_data",
          "data": {
            "image/png": "[encoded data removed]",
            "text/plain": [
              "<Figure size 72x72 with 1 Axes>"
            ]
          },
          "metadata": {
            "tags": [],
            "needs_background": "light"
          }
        }
      ]
    },
    {
      "cell_type": "markdown",
      "metadata": {
        "id": "bh75EW7sFagH"
      },
      "source": [
        "### A. The code should do mini batch gradient descent along with appropriate learning rate.\n",
        "\n",
        "Pick appropriate batch size for minibatch (read fastai and other tips and https://www.kaggle.com/yassineghouzam/introduction-to-cnn-keras-0-997-top-6 (Links to an external site.) for example.) see sample https://machinelearningmastery.com/handwritten-digit-recognition-using-convolutional-neural-networks-python-keras/ (Links to an external site.) as well."
      ]
    },
    {
      "cell_type": "markdown",
      "metadata": {
        "id": "8T54RnND8lYQ"
      },
      "source": [
        "We can calculate the average loss for a few dataset items at a time. This is known as mini-batch and the number of data items in the mini-batch is called the batch size. Choosing a good batch size is one of the decisions you need to make as a deep learning practitioner to train your model quickly and accurately."
      ]
    },
    {
      "cell_type": "markdown",
      "metadata": {
        "id": "bSEcjuax9L2_"
      },
      "source": [
        "Fastai and Pytorch provide Dataloader that will do the shuffling and mini-batch collation. A Dataloader can use any Python collection and make it into an iterator over many batches."
      ]
    },
    {
      "cell_type": "code",
      "metadata": {
        "id": "UsLbZnRJ9Uce"
      },
      "source": [
        ""
      ],
      "execution_count": null,
      "outputs": []
    },
    {
      "cell_type": "code",
      "metadata": {
        "id": "NeZNXOYJ82JY"
      },
      "source": [
        ""
      ],
      "execution_count": null,
      "outputs": []
    }
  ]
}